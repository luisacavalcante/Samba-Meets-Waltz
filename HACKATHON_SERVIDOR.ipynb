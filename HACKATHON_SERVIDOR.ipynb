{
  "cells": [
    {
      "cell_type": "code",
      "execution_count": 1,
      "metadata": {
        "colab": {
          "base_uri": "https://localhost:8080/"
        },
        "id": "-OMoNv58E7Pb",
        "outputId": "192de663-877b-4ab7-cda9-784abbf9f97f"
      },
      "outputs": [
        {
          "output_type": "stream",
          "name": "stdout",
          "text": [
            "Collecting pyngrok==4.1.1\n",
            "  Downloading pyngrok-4.1.1.tar.gz (18 kB)\n",
            "  Preparing metadata (setup.py) ... \u001b[?25l\u001b[?25hdone\n",
            "Requirement already satisfied: future in /usr/local/lib/python3.10/dist-packages (from pyngrok==4.1.1) (0.18.3)\n",
            "Requirement already satisfied: PyYAML in /usr/local/lib/python3.10/dist-packages (from pyngrok==4.1.1) (6.0.1)\n",
            "Building wheels for collected packages: pyngrok\n",
            "  Building wheel for pyngrok (setup.py) ... \u001b[?25l\u001b[?25hdone\n",
            "  Created wheel for pyngrok: filename=pyngrok-4.1.1-py3-none-any.whl size=15963 sha256=727ee5f19ba4129fdaee8988782842017484169992e57073731ea8829e057ffa\n",
            "  Stored in directory: /root/.cache/pip/wheels/4c/7c/4c/632fba2ea8e88d8890102eb07bc922e1ca8fa14db5902c91a8\n",
            "Successfully built pyngrok\n",
            "Installing collected packages: pyngrok\n",
            "Successfully installed pyngrok-4.1.1\n",
            "Collecting flask_ngrok\n",
            "  Downloading flask_ngrok-0.0.25-py3-none-any.whl (3.1 kB)\n",
            "Requirement already satisfied: Flask>=0.8 in /usr/local/lib/python3.10/dist-packages (from flask_ngrok) (2.2.5)\n",
            "Requirement already satisfied: requests in /usr/local/lib/python3.10/dist-packages (from flask_ngrok) (2.31.0)\n",
            "Requirement already satisfied: Werkzeug>=2.2.2 in /usr/local/lib/python3.10/dist-packages (from Flask>=0.8->flask_ngrok) (2.3.7)\n",
            "Requirement already satisfied: Jinja2>=3.0 in /usr/local/lib/python3.10/dist-packages (from Flask>=0.8->flask_ngrok) (3.1.2)\n",
            "Requirement already satisfied: itsdangerous>=2.0 in /usr/local/lib/python3.10/dist-packages (from Flask>=0.8->flask_ngrok) (2.1.2)\n",
            "Requirement already satisfied: click>=8.0 in /usr/local/lib/python3.10/dist-packages (from Flask>=0.8->flask_ngrok) (8.1.7)\n",
            "Requirement already satisfied: charset-normalizer<4,>=2 in /usr/local/lib/python3.10/dist-packages (from requests->flask_ngrok) (3.2.0)\n",
            "Requirement already satisfied: idna<4,>=2.5 in /usr/local/lib/python3.10/dist-packages (from requests->flask_ngrok) (3.4)\n",
            "Requirement already satisfied: urllib3<3,>=1.21.1 in /usr/local/lib/python3.10/dist-packages (from requests->flask_ngrok) (2.0.4)\n",
            "Requirement already satisfied: certifi>=2017.4.17 in /usr/local/lib/python3.10/dist-packages (from requests->flask_ngrok) (2023.7.22)\n",
            "Requirement already satisfied: MarkupSafe>=2.0 in /usr/local/lib/python3.10/dist-packages (from Jinja2>=3.0->Flask>=0.8->flask_ngrok) (2.1.3)\n",
            "Installing collected packages: flask_ngrok\n",
            "Successfully installed flask_ngrok-0.0.25\n",
            "Drive already mounted at /content/drive; to attempt to forcibly remount, call drive.mount(\"/content/drive\", force_remount=True).\n"
          ]
        }
      ],
      "source": [
        "!pip install pyngrok==4.1.1\n",
        "!pip install flask_ngrok\n",
        "from google.colab import drive\n",
        "drive.mount('/content/drive')\n",
        "\n",
        "\n"
      ]
    },
    {
      "cell_type": "code",
      "execution_count": 2,
      "metadata": {
        "colab": {
          "base_uri": "https://localhost:8080/"
        },
        "id": "5FoYs6hJFCd8",
        "outputId": "47023eac-13ed-4fe1-c4f5-ac2640b55141"
      },
      "outputs": [
        {
          "output_type": "stream",
          "name": "stdout",
          "text": [
            "Authtoken saved to configuration file: /root/.ngrok2/ngrok.yml\n"
          ]
        }
      ],
      "source": [
        "!ngrok authtoken 2TTqM4LyLrUj5QAUrZBd8ahxSA9_561SSmCMHhHTzwhHTiWbR"
      ]
    },
    {
      "cell_type": "code",
      "execution_count": 3,
      "metadata": {
        "colab": {
          "base_uri": "https://localhost:8080/"
        },
        "id": "VRm-co5R8iBa",
        "outputId": "bc3c0594-587e-423e-9c49-c9044845ab1e"
      },
      "outputs": [
        {
          "output_type": "stream",
          "name": "stdout",
          "text": [
            "Requirement already satisfied: pandas in /usr/local/lib/python3.10/dist-packages (1.5.3)\n",
            "Requirement already satisfied: openpyxl in /usr/local/lib/python3.10/dist-packages (3.1.2)\n",
            "Requirement already satisfied: python-dateutil>=2.8.1 in /usr/local/lib/python3.10/dist-packages (from pandas) (2.8.2)\n",
            "Requirement already satisfied: pytz>=2020.1 in /usr/local/lib/python3.10/dist-packages (from pandas) (2023.3)\n",
            "Requirement already satisfied: numpy>=1.21.0 in /usr/local/lib/python3.10/dist-packages (from pandas) (1.23.5)\n",
            "Requirement already satisfied: et-xmlfile in /usr/local/lib/python3.10/dist-packages (from openpyxl) (1.1.0)\n",
            "Requirement already satisfied: six>=1.5 in /usr/local/lib/python3.10/dist-packages (from python-dateutil>=2.8.1->pandas) (1.16.0)\n"
          ]
        }
      ],
      "source": [
        "!pip install pandas openpyxl\n"
      ]
    },
    {
      "cell_type": "code",
      "execution_count": 4,
      "metadata": {
        "id": "umTacepu8nB8"
      },
      "outputs": [],
      "source": [
        "from google.colab import auth\n",
        "import gspread\n",
        "from google.auth import default\n",
        "#autenticating to google\n",
        "auth.authenticate_user()\n",
        "creds, _ = default()\n",
        "gc = gspread.authorize(creds)"
      ]
    },
    {
      "cell_type": "code",
      "execution_count": 5,
      "metadata": {
        "id": "ABzs5yee8zgW"
      },
      "outputs": [],
      "source": [
        "import pandas as pd\n"
      ]
    },
    {
      "cell_type": "code",
      "execution_count": 6,
      "metadata": {
        "id": "34RhstMRDrCY"
      },
      "outputs": [],
      "source": [
        "from datetime import datetime\n",
        "import pytz\n",
        "import time"
      ]
    },
    {
      "cell_type": "code",
      "execution_count": null,
      "metadata": {
        "colab": {
          "base_uri": "https://localhost:8080/"
        },
        "id": "kjuoHcH5FLC5",
        "outputId": "106a1b77-4bda-4781-8669-101b4e308213"
      },
      "outputs": [
        {
          "output_type": "stream",
          "name": "stdout",
          "text": [
            " * Serving Flask app '__main__'\n",
            " * Debug mode: off\n"
          ]
        },
        {
          "output_type": "stream",
          "name": "stderr",
          "text": [
            "INFO:werkzeug:\u001b[31m\u001b[1mWARNING: This is a development server. Do not use it in a production deployment. Use a production WSGI server instead.\u001b[0m\n",
            " * Running on http://127.0.0.1:5000\n",
            "INFO:werkzeug:\u001b[33mPress CTRL+C to quit\u001b[0m\n"
          ]
        },
        {
          "output_type": "stream",
          "name": "stdout",
          "text": [
            " * Running on http://d779-35-247-101-154.ngrok-free.app\n",
            " * Traffic stats available on http://127.0.0.1:4040\n"
          ]
        }
      ],
      "source": [
        "#https://www.youtube.com/watch?v=vieoHqt7pxo\n",
        "#servidor\n",
        "\n",
        "import numpy as np\n",
        "import pandas as pd\n",
        "import tensorflow as tf\n",
        "from flask import Flask, jsonify, request\n",
        "from flask_ngrok import run_with_ngrok\n",
        "import joblib\n",
        "from tensorflow.keras.models import load_model\n",
        "\n",
        "app = Flask(__name__)\n",
        "run_with_ngrok(app)\n",
        "reshaped_motion_data = []\n",
        "\n",
        "def reshape_data(json_data):\n",
        "\n",
        "\n",
        "    motion_data_test = pd.DataFrame(json_data, columns=['AccX', 'AccY', 'AccZ', 'GyroX', 'GyroY', 'GyroZ','Humidity'])\n",
        "\n",
        "    motion_data_array = motion_data_test\n",
        "\n",
        "    reshaped_motion_data.append(motion_data_array.iloc[0].values.tolist())\n",
        "    #print(reshaped_motion_data)\n",
        "    return reshaped_motion_data\n",
        "\n",
        "\n",
        "def danger_level(data):\n",
        "\n",
        "  model = load_model('/content/drive/My Drive/hackamodel.h5')\n",
        "  single_instance_prediction = model.predict(data)\n",
        "  single_instance_prediction = single_instance_prediction[-1][-1][-1]\n",
        "  if(single_instance_prediction < 0.5 and data[-1][-1][-1] < 0.5):\n",
        "\n",
        "    #print('Danger Level 3')\n",
        "    return(\"Danger Level 3\")\n",
        "  elif(single_instance_prediction < 0.5 and data[-1][-1][-1] > 0.5):\n",
        "    #print('Danger Level 2')\n",
        "    return(\"Danger Level 2\")\n",
        "  elif(single_instance_prediction > 0.5 and data[-1][-1][-1] < 0.5):\n",
        "   # print('Danger Level 1')\n",
        "    return(\"Danger Level 1\")\n",
        "  elif(single_instance_prediction > 0.5 and data[-1][-1][-1] > 0.5):\n",
        "    #print('Danger Level 4')\n",
        "    return(\"Danger Level 4\")\n",
        "\n",
        "@app.route('/data_with_humidity', methods=['POST'])\n",
        "def predict_data():\n",
        "    prediction = \"\";\n",
        "    json_data = request.get_json()\n",
        "    reshaped_data = reshape_data(json_data)\n",
        "    print(len(reshaped_data))\n",
        "    if(len(reshaped_data)<20):\n",
        "     print(\"vou esperar\")\n",
        "    elif(len(reshaped_data)==20):\n",
        "      reshaped_data = np.array(reshaped_data)\n",
        "      import pickle\n",
        "\n",
        "      with open('/content/drive/My Drive/minmax_scaler.pkl', 'rb') as file:\n",
        "        loaded_scaler = pickle.load(file)\n",
        "\n",
        "      reshaped_data = loaded_scaler.transform(reshaped_data)\n",
        "      reshaped_data = reshaped_data.reshape(1,reshaped_data.shape[0], reshaped_data.shape[1])\n",
        "      predict_list =  danger_level(reshaped_data)\n",
        "      prediction = predict_list\n",
        "      print(prediction)\n",
        "\n",
        "    else:\n",
        "      reshaped_data = np.array(reshaped_data)\n",
        "      import pickle\n",
        "\n",
        "      with open('/content/drive/My Drive/minmax_scaler.pkl', 'rb') as file:\n",
        "        loaded_scaler = pickle.load(file)\n",
        "\n",
        "      reshaped_data = loaded_scaler.transform(reshaped_data)\n",
        "      reshaped_data = reshaped_data.reshape(1,reshaped_data.shape[0], reshaped_data.shape[1])\n",
        "      predict_list =  danger_level(reshaped_data[:,-20:,:])\n",
        "      prediction = predict_list\n",
        "      print(prediction)\n",
        "    return jsonify({\"Predicted Class\": prediction})\n",
        "\n",
        "\n",
        "if __name__ == '__main__':\n",
        "    app.run()"
      ]
    }
  ],
  "metadata": {
    "colab": {
      "provenance": []
    },
    "kernelspec": {
      "display_name": "Python 3",
      "name": "python3"
    },
    "language_info": {
      "name": "python"
    }
  },
  "nbformat": 4,
  "nbformat_minor": 0
}